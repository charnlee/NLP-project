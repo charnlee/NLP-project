{
  "nbformat": 4,
  "nbformat_minor": 0,
  "metadata": {
    "colab": {
      "provenance": [],
      "gpuType": "T4"
    },
    "kernelspec": {
      "name": "python3",
      "display_name": "Python 3"
    },
    "language_info": {
      "name": "python"
    },
    "accelerator": "GPU"
  },
  "cells": [
    {
      "cell_type": "markdown",
      "source": [
        "**搭建模型**"
      ],
      "metadata": {
        "id": "ccTa2fK5eJsq"
      }
    },
    {
      "cell_type": "code",
      "execution_count": 35,
      "metadata": {
        "id": "xCXx1DXSdv4n"
      },
      "outputs": [],
      "source": [
        "from transformers import BertModel\n",
        "import torch.nn as nn\n",
        "import pandas as pd\n",
        "from torch.utils.data import DataLoader, random_split\n",
        "from torch.optim import Adam\n",
        "from tqdm import tqdm\n",
        "import os\n",
        "import transformers\n",
        "from transformers import BertTokenizer\n",
        "import torch\n",
        "import numpy as np"
      ]
    },
    {
      "cell_type": "code",
      "source": [
        "class BertClassifier(nn.Module):\n",
        "    def __init__(self, model_path, dropout=0.5,freeze_bert=True):\n",
        "        super(BertClassifier, self).__init__()\n",
        "        self.bert = BertModel.from_pretrained(model_path)\n",
        "        self.dropout = nn.Dropout(dropout)\n",
        "        self.linear1 = nn.Linear(768, 768)\n",
        "        self.relu = nn.ReLU()\n",
        "        self.linear2 = nn.Linear(768, 2)\n",
        "        self.sig = nn.Sigmoid()\n",
        "\n",
        "        # 冻结BERT模型的参数\n",
        "        if freeze_bert:\n",
        "            for param in self.bert.parameters():\n",
        "                param.requires_grad = False\n",
        "\n",
        "    def forward(self, input_ids, attention_mask):\n",
        "        _, pooled_output = self.bert(input_ids=input_ids, attention_mask=attention_mask, return_dict=False)\n",
        "        dropout_output = self.dropout(pooled_output)\n",
        "        linear1_output = self.relu(self.linear1(dropout_output))\n",
        "        linear2_output = self.linear2(dropout_output)\n",
        "        final_layer = self.sig(linear2_output)\n",
        "        return final_layer"
      ],
      "metadata": {
        "id": "h6t0EogbeFxS"
      },
      "execution_count": 36,
      "outputs": []
    },
    {
      "cell_type": "code",
      "source": [
        "class Dataset(torch.utils.data.Dataset):\n",
        "    def __init__(self, datas, model_path):\n",
        "        self.labels = datas['label']\n",
        "        tokenizer = BertTokenizer.from_pretrained(model_path)\n",
        "        self.reviews = [\n",
        "            tokenizer(str(review), padding='max_length', max_length=512, truncation=True, return_tensors='pt')\n",
        "            for review in datas['review']\n",
        "        ]\n",
        "\n",
        "    def __len__(self):\n",
        "        return len(self.labels)\n",
        "\n",
        "    def __getitem__(self, idx):\n",
        "        return self.reviews[idx], np.array(self.labels[idx])"
      ],
      "metadata": {
        "id": "bu3WNNgLevqq"
      },
      "execution_count": 37,
      "outputs": []
    },
    {
      "cell_type": "code",
      "source": [
        "def train(model, train_dataset, val_dataset, epochs):\n",
        "    train_loader = DataLoader(train_dataset, batch_size=24, shuffle=True)\n",
        "    val_loader = DataLoader(val_dataset, batch_size=24)\n",
        "    device = torch.device(\"cuda\" if torch.cuda.is_available() else \"cpu\")\n",
        "    model = model.to(device)\n",
        "    criterion = nn.CrossEntropyLoss().to(device)\n",
        "    optim = transformers.AdamW(model.parameters(), lr=1e-5,correct_bias=True)\n",
        "    best_avg_acc_val = 0\n",
        "\n",
        "    for epoch in range(epochs):\n",
        "        model.train()\n",
        "        total_loss_train = total_acc_train = 0\n",
        "        train_iterator = tqdm(train_loader, desc=f'Epoch {epoch + 1}/{epochs} [Train]', leave=False)\n",
        "        for train_input, train_label in train_iterator:\n",
        "            train_label = train_label.to(device)\n",
        "            attention_mask = train_input['attention_mask'].squeeze(1).to(device)\n",
        "            input_ids = train_input['input_ids'].squeeze(1).to(device)\n",
        "            output = model(input_ids, attention_mask)\n",
        "            loss = criterion(output, train_label)\n",
        "            total_loss_train += loss.item()\n",
        "            acc = (output.argmax(dim=1) == train_label).sum().item()\n",
        "            total_acc_train += acc\n",
        "            model.zero_grad()\n",
        "            loss.backward()\n",
        "            optim.step()\n",
        "\n",
        "        model.eval()\n",
        "        total_loss_val = total_acc_val = 0\n",
        "        val_iterator = tqdm(val_loader, desc=f'Epoch {epoch + 1}/{epochs} [Validate]', leave=False)\n",
        "        with torch.no_grad():\n",
        "            for val_input, val_label in val_iterator:\n",
        "                val_label = val_label.to(device)\n",
        "                attention_mask = val_input['attention_mask'].squeeze(1).to(device)\n",
        "                input_ids = val_input['input_ids'].squeeze(1).to(device)\n",
        "                output = model(input_ids, attention_mask)\n",
        "                loss = criterion(output, val_label)\n",
        "                total_loss_val += loss.item()\n",
        "                acc = (output.argmax(dim=1) == val_label).sum().item()\n",
        "                total_acc_val += acc\n",
        "\n",
        "        avg_acc_val = total_acc_val / len(val_dataset)\n",
        "        if avg_acc_val > best_avg_acc_val:\n",
        "            best_avg_acc_val = avg_acc_val\n",
        "            save_path = \"/content/model\"\n",
        "            directory = os.path.dirname(save_path)\n",
        "            # 如果目录不存在，创建它\n",
        "            if not os.path.exists(directory):\n",
        "                os.makedirs(directory)\n",
        "            torch.save(model.state_dict(), save_path)\n",
        "\n",
        "        print(f'Epoch {epoch + 1}: Train Loss {total_loss_train / len(train_dataset):.3f}, '\n",
        "              f'Train Acc {total_acc_train / len(train_dataset):.3f}, '\n",
        "              f'Val Loss {total_loss_val / len(val_dataset):.3f}, '\n",
        "              f'Val Acc {avg_acc_val:.3f}')"
      ],
      "metadata": {
        "id": "yBkfneDBe3xC"
      },
      "execution_count": 38,
      "outputs": []
    },
    {
      "cell_type": "code",
      "source": [
        "train_dataset = pd.read_excel('/content/data/train_dataset.xlsx')\n",
        "dataset = Dataset(train_dataset, \"bert-base-chinese\")\n",
        "train_data, val_data = random_split(dataset, [round(0.8 * len(train_dataset)), round(0.2 * len(train_dataset))])\n",
        "model = BertClassifier(\"bert-base-chinese\",0.5,freeze_bert=True)\n",
        "print('训练开始')\n",
        "train(model,train_dataset=train_data,val_dataset=val_data,epochs=10)\n",
        "print('训练结束')"
      ],
      "metadata": {
        "colab": {
          "base_uri": "https://localhost:8080/"
        },
        "id": "n5MZgYPGe9tC",
        "outputId": "745d0531-2ecd-4a00-b53b-82d2206e311a"
      },
      "execution_count": 39,
      "outputs": [
        {
          "output_type": "stream",
          "name": "stderr",
          "text": [
            "/usr/local/lib/python3.10/dist-packages/transformers/optimization.py:588: FutureWarning: This implementation of AdamW is deprecated and will be removed in a future version. Use the PyTorch implementation torch.optim.AdamW instead, or set `no_deprecation_warning=True` to disable this warning\n",
            "  warnings.warn(\n"
          ]
        },
        {
          "output_type": "stream",
          "name": "stdout",
          "text": [
            "训练开始\n"
          ]
        },
        {
          "output_type": "stream",
          "name": "stderr",
          "text": []
        },
        {
          "output_type": "stream",
          "name": "stdout",
          "text": [
            "Epoch 1: Train Loss 0.027, Train Acc 0.645, Val Loss 0.027, Val Acc 0.690\n"
          ]
        },
        {
          "output_type": "stream",
          "name": "stderr",
          "text": []
        },
        {
          "output_type": "stream",
          "name": "stdout",
          "text": [
            "Epoch 2: Train Loss 0.026, Train Acc 0.689, Val Loss 0.026, Val Acc 0.690\n"
          ]
        },
        {
          "output_type": "stream",
          "name": "stderr",
          "text": []
        },
        {
          "output_type": "stream",
          "name": "stdout",
          "text": [
            "Epoch 3: Train Loss 0.026, Train Acc 0.688, Val Loss 0.026, Val Acc 0.690\n"
          ]
        },
        {
          "output_type": "stream",
          "name": "stderr",
          "text": []
        },
        {
          "output_type": "stream",
          "name": "stdout",
          "text": [
            "Epoch 4: Train Loss 0.026, Train Acc 0.687, Val Loss 0.026, Val Acc 0.690\n"
          ]
        },
        {
          "output_type": "stream",
          "name": "stderr",
          "text": []
        },
        {
          "output_type": "stream",
          "name": "stdout",
          "text": [
            "Epoch 5: Train Loss 0.026, Train Acc 0.688, Val Loss 0.026, Val Acc 0.690\n"
          ]
        },
        {
          "output_type": "stream",
          "name": "stderr",
          "text": []
        },
        {
          "output_type": "stream",
          "name": "stdout",
          "text": [
            "Epoch 6: Train Loss 0.026, Train Acc 0.687, Val Loss 0.025, Val Acc 0.690\n"
          ]
        },
        {
          "output_type": "stream",
          "name": "stderr",
          "text": []
        },
        {
          "output_type": "stream",
          "name": "stdout",
          "text": [
            "Epoch 7: Train Loss 0.025, Train Acc 0.687, Val Loss 0.025, Val Acc 0.690\n"
          ]
        },
        {
          "output_type": "stream",
          "name": "stderr",
          "text": []
        },
        {
          "output_type": "stream",
          "name": "stdout",
          "text": [
            "Epoch 8: Train Loss 0.025, Train Acc 0.688, Val Loss 0.025, Val Acc 0.690\n"
          ]
        },
        {
          "output_type": "stream",
          "name": "stderr",
          "text": []
        },
        {
          "output_type": "stream",
          "name": "stdout",
          "text": [
            "Epoch 9: Train Loss 0.025, Train Acc 0.688, Val Loss 0.025, Val Acc 0.690\n"
          ]
        },
        {
          "output_type": "stream",
          "name": "stderr",
          "text": [
            "                                                                       "
          ]
        },
        {
          "output_type": "stream",
          "name": "stdout",
          "text": [
            "Epoch 10: Train Loss 0.025, Train Acc 0.689, Val Loss 0.025, Val Acc 0.690\n",
            "训练结束\n"
          ]
        },
        {
          "output_type": "stream",
          "name": "stderr",
          "text": [
            "\r"
          ]
        }
      ]
    },
    {
      "cell_type": "markdown",
      "source": [
        "第一回合：\n",
        "\n",
        "Epoch 1: Train Loss 0.029, Train Acc 0.477, Val Loss 0.027, Val Acc 0.\n",
        "721\n",
        "\n",
        "Epoch 2: Train Loss 0.027, Train Acc 0.675, Val Loss 0.026, Val Acc 0.706\n",
        "\n",
        "Epoch 3: Train Loss 0.026, Train Acc 0.686, Val Loss 0.025, Val Acc 0.705\n",
        "\n",
        "Epoch 4: Train Loss 0.026, Train Acc 0.686, Val Loss 0.025, Val Acc 0.705\n",
        "\n",
        "第二回合：\n",
        "\n",
        "Epoch 1: Train Loss 0.027, Train Acc 0.645, Val Loss 0.027, Val Acc 0.690\n",
        "\n",
        "Epoch 2: Train Loss 0.026, Train Acc 0.689, Val Loss 0.026, Val Acc 0.690\n",
        "\n",
        "Epoch 3: Train Loss 0.026, Train Acc 0.688, Val Loss 0.026, Val Acc 0.690\n",
        "\n",
        "Epoch 4: Train Loss 0.026, Train Acc 0.687, Val Loss 0.026, Val Acc 0.690\n",
        "\n"
      ],
      "metadata": {
        "id": "gY2Tiifnpk9h"
      }
    },
    {
      "cell_type": "code",
      "source": [],
      "metadata": {
        "id": "g7m3C2jHpqPv"
      },
      "execution_count": null,
      "outputs": []
    }
  ]
}